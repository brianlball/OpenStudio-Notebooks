{
 "cells": [
  {
   "cell_type": "code",
   "execution_count": 1,
   "id": "76084025-0282-4a35-8104-f802ecc19def",
   "metadata": {},
   "outputs": [
    {
     "data": {
      "text/plain": [
       "false"
      ]
     },
     "execution_count": 1,
     "metadata": {},
     "output_type": "execute_result"
    }
   ],
   "source": [
    "require 'json'\n",
    "require 'fileutils'\n"
   ]
  },
  {
   "cell_type": "code",
   "execution_count": 2,
   "id": "850b6f9c-a268-4a43-b80c-bea4f3f15490",
   "metadata": {},
   "outputs": [
    {
     "data": {
      "text/plain": [
       "[\"Data\"]"
      ]
     },
     "execution_count": 2,
     "metadata": {},
     "output_type": "execute_result"
    }
   ],
   "source": [
    "FileUtils.mkdir_p('Data') unless Dir.exist?('Data')"
   ]
  },
  {
   "cell_type": "code",
   "execution_count": 3,
   "id": "5b46aee4-5760-4976-b65b-7240847e9102",
   "metadata": {},
   "outputs": [
    {
     "data": {
      "text/plain": [
       "{:data=>[{:accounts=>1, :from=>\"2013-01-01T00:00:00Z\", :peak=>0, :to=>\"2013-01-31T00:00:00Z\", :tot_kwh=>2}, {:accounts=>1, :from=>\"2013-02-01T00:00:00Z\", :peak=>0, :to=>\"2013-02-28T00:00:00Z\", :tot_kwh=>3}, {:accounts=>1, :from=>\"2013-03-01T00:00:00Z\", :peak=>0, :to=>\"2013-03-31T00:00:00Z\", :tot_kwh=>2}, {:accounts=>1, :from=>\"2013-04-01T00:00:00Z\", :peak=>0, :to=>\"2013-04-30T00:00:00Z\", :tot_kwh=>3}, {:accounts=>1, :from=>\"2013-05-01T00:00:00Z\", :peak=>0, :to=>\"2013-05-31T00:00:00Z\", :tot_kwh=>2}, {:accounts=>1, :from=>\"2013-06-01T00:00:00Z\", :peak=>0, :to=>\"2013-06-30T00:00:00Z\", :tot_kwh=>3}, {:accounts=>1, :from=>\"2013-07-01T00:00:00Z\", :peak=>0, :to=>\"2013-07-31T00:00:00Z\", :tot_kwh=>2}, {:accounts=>1, :from=>\"2013-08-01T00:00:00Z\", :peak=>0, :to=>\"2013-08-31T00:00:00Z\", :tot_kwh=>3}, {:accounts=>1, :from=>\"2013-09-01T00:00:00Z\", :peak=>0, :to=>\"2013-09-30T00:00:00Z\", :tot_kwh=>2}, {:accounts=>1, :from=>\"2013-10-01T00:00:00Z\", :peak=>0, :to=>\"2013-10-31T00:00:00Z\", :tot_kwh=>3}, {:accounts=>1, :from=>\"2013-11-01T00:00:00Z\", :peak=>0, :to=>\"2013-11-30T00:00:00Z\", :tot_kwh=>3}, {:accounts=>1, :from=>\"2013-12-01T00:00:00Z\", :peak=>0, :to=>\"2013-12-31T00:00:00Z\", :tot_kwh=>3}]}"
      ]
     },
     "execution_count": 3,
     "metadata": {},
     "output_type": "execute_result"
    }
   ],
   "source": [
    "electric_json = {\n",
    "    data: [\n",
    "            {\n",
    "                accounts: 1,\n",
    "                from: \"2013-01-01T00:00:00Z\",\n",
    "                peak: 0,\n",
    "                to: \"2013-01-31T00:00:00Z\",\n",
    "                tot_kwh: 2\n",
    "            },\n",
    "            {\n",
    "                accounts: 1,\n",
    "                from: \"2013-02-01T00:00:00Z\",\n",
    "                peak: 0,\n",
    "                to: \"2013-02-28T00:00:00Z\",\n",
    "                tot_kwh: 3\n",
    "            },\n",
    "            {\n",
    "                accounts: 1,\n",
    "                from: \"2013-03-01T00:00:00Z\",\n",
    "                peak: 0,\n",
    "                to: \"2013-03-31T00:00:00Z\",\n",
    "                tot_kwh: 2\n",
    "            },\n",
    "            {\n",
    "                accounts: 1,\n",
    "                from: \"2013-04-01T00:00:00Z\",\n",
    "                peak: 0,\n",
    "                to: \"2013-04-30T00:00:00Z\",\n",
    "                tot_kwh: 3\n",
    "            },\n",
    "            {\n",
    "                accounts: 1,\n",
    "                from: \"2013-05-01T00:00:00Z\",\n",
    "                peak: 0,\n",
    "                to: \"2013-05-31T00:00:00Z\",\n",
    "                tot_kwh: 2\n",
    "            },\n",
    "            {\n",
    "                accounts: 1,\n",
    "                from: \"2013-06-01T00:00:00Z\",\n",
    "                peak: 0,\n",
    "                to: \"2013-06-30T00:00:00Z\",\n",
    "                tot_kwh: 3\n",
    "            },\n",
    "            {\n",
    "                accounts: 1,\n",
    "                from: \"2013-07-01T00:00:00Z\",\n",
    "                peak: 0,\n",
    "                to: \"2013-07-31T00:00:00Z\",\n",
    "                tot_kwh: 2\n",
    "            },\n",
    "            {\n",
    "                accounts: 1,\n",
    "                from: \"2013-08-01T00:00:00Z\",\n",
    "                peak: 0,\n",
    "                to: \"2013-08-31T00:00:00Z\",\n",
    "                tot_kwh: 3\n",
    "            },\n",
    "            {\n",
    "                accounts: 1,\n",
    "                from: \"2013-09-01T00:00:00Z\",\n",
    "                peak: 0,\n",
    "                to: \"2013-09-30T00:00:00Z\",\n",
    "                tot_kwh: 2\n",
    "            },\n",
    "            {\n",
    "                accounts: 1,\n",
    "                from: \"2013-10-01T00:00:00Z\",\n",
    "                peak: 0,\n",
    "                to: \"2013-10-31T00:00:00Z\",\n",
    "                tot_kwh: 3\n",
    "            },\n",
    "            {\n",
    "                accounts: 1,\n",
    "                from: \"2013-11-01T00:00:00Z\",\n",
    "                peak: 0,\n",
    "                to: \"2013-11-30T00:00:00Z\",\n",
    "                tot_kwh: 3\n",
    "            },\n",
    "            {\n",
    "                accounts: 1,\n",
    "                from: \"2013-12-01T00:00:00Z\",\n",
    "                peak: 0,\n",
    "                to: \"2013-12-31T00:00:00Z\",\n",
    "                tot_kwh: 3\n",
    "            }\n",
    "        ]\n",
    "}"
   ]
  },
  {
   "cell_type": "code",
   "execution_count": 4,
   "id": "1a40d9ce-7eb4-42fa-8f61-5f1ed3ad9111",
   "metadata": {},
   "outputs": [
    {
     "data": {
      "text/plain": [
       "[2392.55, 2152.71, 2445.09, 2608.66, 2942.43, 3014.3, 3506.8, 3425.06, 2884.89, 2676.21, 2356, 2333.98]"
      ]
     },
     "execution_count": 4,
     "metadata": {},
     "output_type": "execute_result"
    }
   ],
   "source": [
    "\n",
    "\n",
    "electric_values = [2392.55, 2152.71, 2445.09, 2608.66, 2942.43, 3014.3, 3506.8, 3425.06, 2884.89, 2676.21, 2356, 2333.98]\n"
   ]
  },
  {
   "cell_type": "code",
   "execution_count": 5,
   "id": "d9aaab97-5c08-46ca-8efb-57438d393893",
   "metadata": {},
   "outputs": [
    {
     "data": {
      "text/plain": [
       "1813"
      ]
     },
     "execution_count": 5,
     "metadata": {},
     "output_type": "execute_result"
    }
   ],
   "source": [
    "\n",
    "electric_json[:data].each_with_index do |item, index|\n",
    "    item[:tot_kwh] = electric_values[index]\n",
    "end\n",
    "\n",
    "File.write(\"Data/electric.json\", JSON.pretty_generate(electric_json))"
   ]
  },
  {
   "cell_type": "code",
   "execution_count": 6,
   "id": "4dd92892-bc32-4f9a-97ca-34f222c15a21",
   "metadata": {},
   "outputs": [
    {
     "data": {
      "text/plain": [
       "[75.74, 85.18, 55.24, 19.69, 11.08, 0.84, 0.26, 0.16, 2.76, 18.19, 56.4, 89.15]"
      ]
     },
     "execution_count": 6,
     "metadata": {},
     "output_type": "execute_result"
    }
   ],
   "source": [
    "natural_gas_values = [75.74, 85.18 ,55.24, 19.69, 11.08, 0.84, 0.26, 0.16, 2.76, 18.19, 56.4, 89.15]"
   ]
  },
  {
   "cell_type": "code",
   "execution_count": 7,
   "id": "0d9f8dc3-d3f3-43ae-b13f-c0649184584b",
   "metadata": {},
   "outputs": [
    {
     "data": {
      "text/plain": [
       "{:data=>[{:accounts=>1, :from=>\"2013-01-01T00:00:00Z\", :peak=>0, :to=>\"2013-01-31T00:00:00Z\", :tot_therms=>2}, {:accounts=>1, :from=>\"2013-02-01T00:00:00Z\", :peak=>0, :to=>\"2013-02-28T00:00:00Z\", :tot_therms=>3}, {:accounts=>1, :from=>\"2013-03-01T00:00:00Z\", :peak=>0, :to=>\"2013-03-31T00:00:00Z\", :tot_therms=>2}, {:accounts=>1, :from=>\"2013-04-01T00:00:00Z\", :peak=>0, :to=>\"2013-04-30T00:00:00Z\", :tot_therms=>3}, {:accounts=>1, :from=>\"2013-05-01T00:00:00Z\", :peak=>0, :to=>\"2013-05-31T00:00:00Z\", :tot_therms=>2}, {:accounts=>1, :from=>\"2013-06-01T00:00:00Z\", :peak=>0, :to=>\"2013-06-30T00:00:00Z\", :tot_therms=>3}, {:accounts=>1, :from=>\"2013-07-01T00:00:00Z\", :peak=>0, :to=>\"2013-07-31T00:00:00Z\", :tot_therms=>2}, {:accounts=>1, :from=>\"2013-08-01T00:00:00Z\", :peak=>0, :to=>\"2013-08-31T00:00:00Z\", :tot_therms=>3}, {:accounts=>1, :from=>\"2013-09-01T00:00:00Z\", :peak=>0, :to=>\"2013-09-30T00:00:00Z\", :tot_therms=>2}, {:accounts=>1, :from=>\"2013-10-01T00:00:00Z\", :peak=>0, :to=>\"2013-10-31T00:00:00Z\", :tot_therms=>3}, {:accounts=>1, :from=>\"2013-11-01T00:00:00Z\", :peak=>0, :to=>\"2013-11-30T00:00:00Z\", :tot_therms=>3}, {:accounts=>1, :from=>\"2013-12-01T00:00:00Z\", :peak=>0, :to=>\"2013-12-31T00:00:00Z\", :tot_therms=>3}]}"
      ]
     },
     "execution_count": 7,
     "metadata": {},
     "output_type": "execute_result"
    }
   ],
   "source": [
    "natural_gas_json = {\n",
    "    data: [\n",
    "            {\n",
    "                accounts: 1,\n",
    "                from: \"2013-01-01T00:00:00Z\",\n",
    "                peak: 0,\n",
    "                to: \"2013-01-31T00:00:00Z\",\n",
    "                tot_therms: 2\n",
    "            },\n",
    "            {\n",
    "                accounts: 1,\n",
    "                from: \"2013-02-01T00:00:00Z\",\n",
    "                peak: 0,\n",
    "                to: \"2013-02-28T00:00:00Z\",\n",
    "                tot_therms: 3\n",
    "            },\n",
    "            {\n",
    "                accounts: 1,\n",
    "                from: \"2013-03-01T00:00:00Z\",\n",
    "                peak: 0,\n",
    "                to: \"2013-03-31T00:00:00Z\",\n",
    "                tot_therms: 2\n",
    "            },\n",
    "            {\n",
    "                accounts: 1,\n",
    "                from: \"2013-04-01T00:00:00Z\",\n",
    "                peak: 0,\n",
    "                to: \"2013-04-30T00:00:00Z\",\n",
    "                tot_therms: 3\n",
    "            },\n",
    "            {\n",
    "                accounts: 1,\n",
    "                from: \"2013-05-01T00:00:00Z\",\n",
    "                peak: 0,\n",
    "                to: \"2013-05-31T00:00:00Z\",\n",
    "                tot_therms: 2\n",
    "            },\n",
    "            {\n",
    "                accounts: 1,\n",
    "                from: \"2013-06-01T00:00:00Z\",\n",
    "                peak: 0,\n",
    "                to: \"2013-06-30T00:00:00Z\",\n",
    "                tot_therms: 3\n",
    "            },\n",
    "            {\n",
    "                accounts: 1,\n",
    "                from: \"2013-07-01T00:00:00Z\",\n",
    "                peak: 0,\n",
    "                to: \"2013-07-31T00:00:00Z\",\n",
    "                tot_therms: 2\n",
    "            },\n",
    "            {\n",
    "                accounts: 1,\n",
    "                from: \"2013-08-01T00:00:00Z\",\n",
    "                peak: 0,\n",
    "                to: \"2013-08-31T00:00:00Z\",\n",
    "                tot_therms: 3\n",
    "            },\n",
    "            {\n",
    "                accounts: 1,\n",
    "                from: \"2013-09-01T00:00:00Z\",\n",
    "                peak: 0,\n",
    "                to: \"2013-09-30T00:00:00Z\",\n",
    "                tot_therms: 2\n",
    "            },\n",
    "            {\n",
    "                accounts: 1,\n",
    "                from: \"2013-10-01T00:00:00Z\",\n",
    "                peak: 0,\n",
    "                to: \"2013-10-31T00:00:00Z\",\n",
    "                tot_therms: 3\n",
    "            },\n",
    "            {\n",
    "                accounts: 1,\n",
    "                from: \"2013-11-01T00:00:00Z\",\n",
    "                peak: 0,\n",
    "                to: \"2013-11-30T00:00:00Z\",\n",
    "                tot_therms: 3\n",
    "            },\n",
    "            {\n",
    "                accounts: 1,\n",
    "                from: \"2013-12-01T00:00:00Z\",\n",
    "                peak: 0,\n",
    "                to: \"2013-12-31T00:00:00Z\",\n",
    "                tot_therms: 3\n",
    "            }\n",
    "        ]\n",
    "}"
   ]
  },
  {
   "cell_type": "code",
   "execution_count": 8,
   "id": "90bf1c35-46e0-4f3f-a9b5-ab2e3db291da",
   "metadata": {},
   "outputs": [
    {
     "data": {
      "text/plain": [
       "1825"
      ]
     },
     "execution_count": 8,
     "metadata": {},
     "output_type": "execute_result"
    }
   ],
   "source": [
    "natural_gas_json[:data].each_with_index do |item, index|\n",
    "    item[:tot_therms] = natural_gas_values[index]\n",
    "end\n",
    "\n",
    "File.write(\"Data/natural_gas.json\", JSON.pretty_generate(natural_gas_json))"
   ]
  },
  {
   "cell_type": "code",
   "execution_count": null,
   "id": "f61c14b4-ebd9-4d78-b3dc-e05bb6b85b06",
   "metadata": {},
   "outputs": [],
   "source": []
  }
 ],
 "metadata": {
  "kernelspec": {
   "display_name": "Ruby 2.7.2",
   "language": "ruby",
   "name": "ruby"
  },
  "language_info": {
   "file_extension": ".rb",
   "mimetype": "application/x-ruby",
   "name": "ruby",
   "version": "2.7.2"
  }
 },
 "nbformat": 4,
 "nbformat_minor": 5
}
